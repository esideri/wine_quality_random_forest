{
 "cells": [
  {
   "cell_type": "markdown",
   "metadata": {},
   "source": [
    "# WINE QUALITY TEST\n"
   ]
  },
  {
   "cell_type": "code",
   "execution_count": 15,
   "metadata": {
    "collapsed": true
   },
   "outputs": [],
   "source": [
    "import pandas as pd\n",
    "from sklearn.model_selection import train_test_split\n",
    "from sklearn.ensemble import RandomForestClassifier\n",
    "from sklearn.tree import DecisionTreeClassifier\n"
   ]
  },
  {
   "cell_type": "code",
   "execution_count": 16,
   "metadata": {
    "collapsed": true
   },
   "outputs": [],
   "source": [
    "data = pd.read_csv(\"winequality-white.csv\",delimiter=\";\")\n",
    "features = []\n",
    "for i, column in data.iterrows():\n",
    "    features.append(column[:-1].values.tolist())\n"
   ]
  },
  {
   "cell_type": "code",
   "execution_count": 17,
   "metadata": {
    "collapsed": false
   },
   "outputs": [
    {
     "name": "stdout",
     "output_type": "stream",
     "text": [
      "[[7.0, 0.27, 0.36, 20.7, 0.045, 45.0, 170.0, 1.001, 3.0, 0.45, 8.8], [6.3, 0.3, 0.34, 1.6, 0.049, 14.0, 132.0, 0.9940000000000001, 3.3, 0.49, 9.5], [8.1, 0.28, 0.4, 6.9, 0.05, 30.0, 97.0, 0.9951, 3.26, 0.44, 10.1], [7.2, 0.23, 0.32, 8.5, 0.057999999999999996, 47.0, 186.0, 0.9956, 3.19, 0.4, 9.9], [7.2, 0.23, 0.32, 8.5, 0.057999999999999996, 47.0, 186.0, 0.9956, 3.19, 0.4, 9.9]]\n",
      "4898\n",
      "4898\n"
     ]
    }
   ],
   "source": [
    "print(k[:5])\n",
    "\n",
    "labels = data['quality'].values.tolist()\n",
    "print(len(features))\n",
    "print(len(labels))"
   ]
  },
  {
   "cell_type": "markdown",
   "metadata": {},
   "source": [
    "Blepoume oti to mhkos twn labels kai to mhkos features einai to idio. Epomenws mporoume na sunexisoume sto programmatismo tou algorithmou"
   ]
  },
  {
   "cell_type": "code",
   "execution_count": 18,
   "metadata": {
    "collapsed": false
   },
   "outputs": [
    {
     "name": "stdout",
     "output_type": "stream",
     "text": [
      "0.633333333333\n"
     ]
    }
   ],
   "source": [
    "train_x,test_x,train_y,test_y = train_test_split(features,labels,test_size=0.3,random_state=43)\n",
    "slf = RandomForestClassifier()\n",
    "slf.fit(train_x,train_y)\n",
    "accuracy =slf.score(test_x,test_y)\n",
    "print(accuracy)"
   ]
  },
  {
   "cell_type": "code",
   "execution_count": null,
   "metadata": {
    "collapsed": true
   },
   "outputs": [],
   "source": []
  }
 ],
 "metadata": {
  "kernelspec": {
   "display_name": "Python 3",
   "language": "python",
   "name": "python3"
  },
  "language_info": {
   "codemirror_mode": {
    "name": "ipython",
    "version": 3
   },
   "file_extension": ".py",
   "mimetype": "text/x-python",
   "name": "python",
   "nbconvert_exporter": "python",
   "pygments_lexer": "ipython3",
   "version": "3.6.0"
  }
 },
 "nbformat": 4,
 "nbformat_minor": 2
}
